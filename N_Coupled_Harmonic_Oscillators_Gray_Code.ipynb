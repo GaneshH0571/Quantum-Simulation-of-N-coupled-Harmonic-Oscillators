{
 "cells": [
  {
   "cell_type": "code",
   "execution_count": 66,
   "metadata": {
    "id": "X4ql-xo73Qia"
   },
   "outputs": [],
   "source": [
    "import numpy as np\n",
    "from qiskit.opflow import I, X, Y, Z, MatrixEvolution, PauliTrotterEvolution, Zero , One\n",
    "from qiskit.circuit import Parameter\n",
    "from qiskit import QuantumCircuit\n",
    "from qiskit import Aer\n",
    "from qiskit import QuantumCircuit, transpile, assemble, Aer, IBMQ, execute\n",
    "from qiskit.quantum_info import Statevector\n",
    "from qiskit.visualization import plot_bloch_multivector, plot_histogram\n",
    "from qiskit import QuantumCircuit, execute\n",
    "import pylatexenc\n",
    "from qiskit.providers.aer import QasmSimulator\n",
    "import qiskit.quantum_info as qi\n",
    "from matplotlib import pyplot as plt\n",
    "import math \n",
    "import time"
   ]
  },
  {
   "cell_type": "code",
   "execution_count": 67,
   "metadata": {
    "id": "rliVrniv1z8R"
   },
   "outputs": [],
   "source": [
    "def depth(qc):\n",
    "  depth_list = []\n",
    "  depth_list.append(qc.depth())\n",
    "  for i in range(5):\n",
    "    qc = qc.decompose()\n",
    "    depth_list.append(qc.depth())\n",
    "  if(depth_list[-1]==depth_list[-2]):\n",
    "    return depth_list[-1]\n",
    "  else:\n",
    "    while(depth_list[-1]!=depth_list[-2]):\n",
    "      qc = qc.decompose()\n",
    "      depth_list.append(qc.depth())\n",
    "    else:\n",
    "      return depth_list[-1]"
   ]
  },
  {
   "cell_type": "markdown",
   "metadata": {
    "id": "YU-duPvK3V9G"
   },
   "source": [
    "##GRAY CODE ENCODING"
   ]
  },
  {
   "cell_type": "markdown",
   "metadata": {
    "id": "coBNdFgJ3Z8V"
   },
   "source": [
    "PARAMETERS"
   ]
  },
  {
   "cell_type": "code",
   "execution_count": 68,
   "metadata": {
    "id": "IIBmt7vK3T5j"
   },
   "outputs": [],
   "source": [
    "#Harmonic Oscillator Parameters\n",
    "\n",
    "Np = 1 # Has to be of the form 2^M - 1\n",
    "N = 2  # Number of oscillators\n",
    "\n",
    "hbar = 1\n",
    "m = 1\n",
    "omega = 1\n",
    "\n",
    "#Trotterization Parameters\n",
    "\n",
    "num_qubits = (np.log2(Np+1))\n",
    "\n",
    "if(math.modf(num_qubits)[0]>0):\n",
    "  num_qubits = N*(int((np.log2(Np+1)))+1)\n",
    "else:\n",
    "  num_qubits = N*int((np.log2(Np+1)))\n",
    "\n",
    "num_states = 2**(num_qubits)\n",
    "\n",
    "t = Parameter('t')\n",
    "evolution_time_t = 0.1\n",
    "time_step_value_t = 0.1\n",
    "steps_t = int(evolution_time_t/time_step_value_t)\n",
    "\n",
    "#Perturbation Parameters\n",
    "\n",
    "lamda = 1"
   ]
  },
  {
   "cell_type": "code",
   "execution_count": 69,
   "metadata": {
    "colab": {
     "base_uri": "https://localhost:8080/"
    },
    "id": "asM6ZmvR3r0H",
    "outputId": "321bf379-3651-4dcc-8993-4078bdedd353"
   },
   "outputs": [
    {
     "data": {
      "text/plain": [
       "<qiskit.providers.aer.jobs.aerjob.AerJob at 0x2a1fd5e16d0>"
      ]
     },
     "execution_count": 69,
     "metadata": {},
     "output_type": "execute_result"
    }
   ],
   "source": [
    "#Create circuit\n",
    "\n",
    "qc = QuantumCircuit(num_qubits,num_qubits)\n",
    "harmonic_oscillator = QuantumCircuit(num_qubits)\n",
    "statec = QuantumCircuit(num_qubits)\n",
    "\n",
    "sim = QasmSimulator()\n",
    "options = {'method': 'statevector'}\n",
    "execute(qc, sim, backend_options=options)"
   ]
  },
  {
   "cell_type": "code",
   "execution_count": 70,
   "metadata": {
    "colab": {
     "base_uri": "https://localhost:8080/"
    },
    "id": "hXAJrtOb3v4c",
    "outputId": "688d20c9-a650-4360-e26c-5a4a8440db6a"
   },
   "outputs": [
    {
     "data": {
      "text/plain": [
       "<qiskit.circuit.instructionset.InstructionSet at 0x2a1a108fc40>"
      ]
     },
     "execution_count": 70,
     "metadata": {},
     "output_type": "execute_result"
    }
   ],
   "source": [
    "#Preparing the intial state\n",
    "\n",
    "statec.x(0)\n",
    "# statec.x(5)\n",
    "# statec.x(3)"
   ]
  },
  {
   "cell_type": "code",
   "execution_count": 71,
   "metadata": {
    "id": "-bjCqCDgyX96"
   },
   "outputs": [],
   "source": [
    "mygate1 = statec.to_gate()\n",
    "index = list(np.arange(0,num_qubits,1))\n",
    "qc = qc.compose(mygate1,index)"
   ]
  },
  {
   "cell_type": "code",
   "execution_count": 72,
   "metadata": {
    "colab": {
     "base_uri": "https://localhost:8080/",
     "height": 41
    },
    "id": "GEtODmqX4OlX",
    "outputId": "e83f7cf1-be29-437b-fddb-f528eff85d13"
   },
   "outputs": [
    {
     "data": {
      "text/latex": [
       "$$ |01\\rangle$$"
      ],
      "text/plain": [
       "<IPython.core.display.Latex object>"
      ]
     },
     "execution_count": 72,
     "metadata": {},
     "output_type": "execute_result"
    }
   ],
   "source": [
    "intial_state = qi.Statevector.from_instruction(qc)\n",
    "intial_state.draw('latex', prefix='State:')"
   ]
  },
  {
   "cell_type": "code",
   "execution_count": 73,
   "metadata": {
    "id": "4CGO1MZG4Pb4"
   },
   "outputs": [],
   "source": [
    "def GrayCode(n):\n",
    "    ret = []\n",
    "    for i in range(1 << n):\n",
    "        val = (i ^ (i >> 1))\n",
    "        s = bin(val)[2::]\n",
    "        ret.append(s.zfill(n))\n",
    "    string = int(num_qubits/N)*'0'\n",
    "    ret.append(string)\n",
    "    return ret"
   ]
  },
  {
   "cell_type": "code",
   "execution_count": 74,
   "metadata": {
    "id": "czNl89NMT6Uw"
   },
   "outputs": [],
   "source": [
    "def TransitionSeq(seq1, seq2):\n",
    "  n = len(seq1)\n",
    "  j = n\n",
    "  for i in range(n):\n",
    "    if seq1[i] != seq2[i]:\n",
    "      return j-1\n",
    "    j -= 1"
   ]
  },
  {
   "cell_type": "code",
   "execution_count": 75,
   "metadata": {
    "colab": {
     "base_uri": "https://localhost:8080/"
    },
    "id": "w8qz5n1g8AA6",
    "outputId": "5cd3afaf-50f1-4345-f562-bf8948d4ef31"
   },
   "outputs": [
    {
     "name": "stdout",
     "output_type": "stream",
     "text": [
      "['0', '1', '0']\n"
     ]
    }
   ],
   "source": [
    "#Our Graycode Sequence\n",
    "\n",
    "Glist = GrayCode(int(num_qubits/N))\n",
    "\n",
    "print(Glist)"
   ]
  },
  {
   "cell_type": "code",
   "execution_count": 76,
   "metadata": {
    "id": "XVDG54BM6arv"
   },
   "outputs": [],
   "source": [
    "#Obtaining our Hamiltonian\n",
    "\n",
    "#Hamiltonian \n",
    "H_ = 0\n",
    "H  = 0\n",
    "H_list = []\n",
    "#Number Operator\n",
    "Num_ = 0\n",
    "Num  = 0\n",
    "Num_list = []\n",
    "#Identity Operator \n",
    "Id1 = 1\n",
    "Id2 = 1\n",
    "#Position Operator\n",
    "X_  = 0 \n",
    "_X_ = 0\n",
    "_X_list = []\n",
    "_X_op_list = []\n",
    "#Momentum Operator\n",
    "P_  = 0 \n",
    "_P_ = 0 \n",
    "_P_list = []\n",
    "\n",
    "#Making the Identity Operator\n",
    "for i in range(int(num_qubits/N)):\n",
    "    Id1 = Id1 ^ I\n",
    "for i in range(num_qubits):\n",
    "    Id2 = Id2 ^ I \n",
    "\n",
    "#Making the Unperturbed Hamiltonian of a single Harmonic Oscillator\n",
    "for i, state in enumerate(Glist[:-1]):\n",
    "  temp = 1\n",
    "  for j in(state):\n",
    "    if(j == '0'):\n",
    "        temp = temp ^ (0.5*(I+Z))\n",
    "    else:\n",
    "        temp = temp ^ (0.5*(I-Z))\n",
    "  \n",
    "  #Number operator and Hamiltonian for a particular oscillators\n",
    "  Num_ += i*temp\n",
    "H_ +=((hbar*omega)*((Num_)+0.5*(Id1)))"
   ]
  },
  {
   "cell_type": "code",
   "execution_count": 77,
   "metadata": {
    "colab": {
     "base_uri": "https://localhost:8080/"
    },
    "id": "CMivzmNu3mO-",
    "outputId": "3cb2e50d-3c61-4f0d-ab37-f9ff1757ed79"
   },
   "outputs": [
    {
     "name": "stdout",
     "output_type": "stream",
     "text": [
      "[[ 2.  0.  0. -1.]\n",
      " [ 0.  3. -1.  0.]\n",
      " [ 0. -1.  3.  0.]\n",
      " [-1.  0.  0.  4.]]\n"
     ]
    }
   ],
   "source": [
    "#Getting the Anhilation and Creator operators\n",
    "\n",
    "#Anhilation operator\n",
    "a        = 0\n",
    "a_list   = []\n",
    "#Creation operator\n",
    "a_dagger      = 0\n",
    "a_dagger_list = []\n",
    "\n",
    "#Creation Operator in Opflow format\n",
    "for i,state in enumerate(Glist[:-1]): \n",
    "  if(state!=Glist[-2]):\n",
    "    temp = 1\n",
    "    for k, j in enumerate(state): \n",
    "      if((num_qubits//N)-k-1 == TransitionSeq(Glist[i], Glist[i+1]) and j == '0'): \n",
    "          temp = 0.5*(temp^(X + 1j*Y))\n",
    "      elif((num_qubits//N)-k-1 == TransitionSeq(Glist[i], Glist[i+1]) and j == '1'):\n",
    "          temp = 0.5*(temp^(X - 1j*Y))\n",
    "      elif(j == '0'):\n",
    "          temp =  temp^(0.5*(I+Z))\n",
    "      else:\n",
    "          temp = temp^(0.5*(I-Z))\n",
    "  else:\n",
    "    temp = 0 \n",
    "  a+= math.sqrt(i+1)*temp\n",
    "\n",
    "\n",
    "#Anhilation Operator in Opflow format\n",
    "for i,state in enumerate(Glist[:-1]):\n",
    "  if(state!=Glist[0]):\n",
    "    temp = 1 \n",
    "    for k, j in enumerate(state): \n",
    "      if((num_qubits//N)-k-1 == TransitionSeq(Glist[i-1], Glist[i]) and j == '0'): \n",
    "          temp = 0.5*(temp^(X + 1j*Y))\n",
    "      elif((num_qubits//N)-k-1 == TransitionSeq(Glist[i-1], Glist[i]) and j == '1'):\n",
    "          temp = 0.5*(temp^(X - 1j*Y))\n",
    "      elif(j == '0'):\n",
    "          temp = temp^(0.5*(I+Z))\n",
    "      else:\n",
    "          temp = temp^(0.5*(I-Z))\n",
    "  else:\n",
    "    temp = 0\n",
    "  a_dagger+= math.sqrt(i)*temp\n",
    "\n",
    "#Postion and Momentum Operator in Opflow format\n",
    "X_ = (a+a_dagger)*np.sqrt((hbar)/(2*m*omega))\n",
    "P_ = (a_dagger-a)*np.sqrt((hbar*m*omega)/2)*1j\n",
    "\n",
    "\n",
    "#Making all the matrices for every operator for a particular oscillator(Keeping dimensions of the composite system Eg: H1 = H_^I^...^I)\n",
    "for i in range(N):\n",
    "  temp1 = 1\n",
    "  temp2 = 1\n",
    "  temp3 = 1\n",
    "  temp4 = 1\n",
    "  temp5 = 1\n",
    "  temp6 = 1\n",
    "\n",
    "  for j in range(N):\n",
    "    if(i==j):\n",
    "      temp1 = H_^temp1\n",
    "      temp2 = Num_^temp2\n",
    "      temp3 = X_^temp3\n",
    "      temp4 = P_^temp4\n",
    "      temp5 = a^temp5\n",
    "      temp6 = a_dagger^temp6\n",
    "    else:\n",
    "      temp1 = Id1^temp1\n",
    "      temp2 = Id1^temp2\n",
    "      temp3 = Id1^temp3\n",
    "      temp4 = Id1^temp4\n",
    "      temp5 = Id1^temp5\n",
    "      temp6 = Id1^temp6\n",
    "  \n",
    "  H_list.append(temp1.to_matrix())\n",
    "  Num_list.append(temp2.to_matrix())\n",
    "  _X_list.append(temp3.to_matrix())\n",
    "  _X_op_list.append(temp3)\n",
    "  _P_list.append(temp4.to_matrix())\n",
    "  a_list.append(temp5.to_matrix())\n",
    "  a_dagger_list.append(temp6.to_matrix())\n",
    "\n",
    "  H   += temp1  \n",
    "  Num += temp2\n",
    "  _X_ += temp3\n",
    "  _P_ += temp4\n",
    "  \n",
    "#Adding coupling terms and perturbations\n",
    "\n",
    "for i in range(1,N):\n",
    "  temp = (_X_op_list[i]-_X_op_list[i-1])@(_X_op_list[i]-_X_op_list[i-1])\n",
    "  H += temp\n",
    "  H_list[i] += temp.to_matrix()\n",
    "\n",
    "#Adding  perturbation terms\n",
    "\n",
    "#x perturbation \n",
    "\n",
    "# for i in range(N):\n",
    "#   temp = lamda*(_X_op_list[i])\n",
    "#   H_list[i] += temp.to_matrix()\n",
    "#   H += temp\n",
    "\n",
    "#x^3 perturbation\n",
    "\n",
    "# for i in range(N):\n",
    "#   temp = lamda*((_X_op_list[i])@(_X_op_list[i])@(_X_op_list[i]))\n",
    "#   H_list[i] += temp.to_matrix()\n",
    "#   H += temp\n",
    "\n",
    "#Reducing the number of terms\n",
    "\n",
    "H = H.reduce()\n",
    "print(H.to_matrix().real)"
   ]
  },
  {
   "cell_type": "code",
   "execution_count": 78,
   "metadata": {},
   "outputs": [
    {
     "name": "stdout",
     "output_type": "stream",
     "text": [
      "[[ 2.  0.  0. -1.]\n",
      " [ 0.  3. -1.  0.]\n",
      " [ 0. -1.  3.  0.]\n",
      " [-1.  0.  0.  4.]]\n"
     ]
    }
   ],
   "source": [
    "import sys\n",
    "np.set_printoptions(threshold=sys.maxsize)\n",
    "print(H.to_matrix().real)"
   ]
  },
  {
   "cell_type": "code",
   "execution_count": 79,
   "metadata": {
    "colab": {
     "base_uri": "https://localhost:8080/",
     "height": 364
    },
    "id": "HeAr_eNh-jPT",
    "outputId": "ffa0aff3-eeda-4ca7-9d2c-929f50a68871"
   },
   "outputs": [
    {
     "data": {
      "image/png": "[encoded data removed]",
      "text/plain": [
       "<Figure size 504x360 with 1 Axes>"
      ]
     },
     "execution_count": 79,
     "metadata": {},
     "output_type": "execute_result"
    }
   ],
   "source": [
    "#Trotterization\n",
    "time_evolution_operator=H*t\n",
    "time_evolution_operator=time_evolution_operator.exp_i()\n",
    "full_time_evolution_circuit=PauliTrotterEvolution().convert(time_evolution_operator)\n",
    "full_time_evolution_circuit=full_time_evolution_circuit.bind_parameters({t:time_step_value_t})\n",
    "for i in range(steps_t-1):\n",
    "    full_time_evolution_circuit@=PauliTrotterEvolution().convert(time_evolution_operator)\n",
    "    full_time_evolution_circuit=full_time_evolution_circuit.bind_parameters({t:time_step_value_t})\n",
    "full_time_evolution_circuit=full_time_evolution_circuit.to_circuit()\n",
    "full_time_evolution_circuit=harmonic_oscillator.compose(full_time_evolution_circuit)\n",
    "\n",
    "mygate = full_time_evolution_circuit.to_gate()\n",
    "index = list(np.arange(0,num_qubits,1))\n",
    "qc = qc.compose(mygate,index)\n",
    "\n",
    "#Final state\n",
    "\n",
    "final_state = qi.Statevector.from_instruction(qc)\n",
    "qc.measure(index,index)\n",
    "backend = Aer.get_backend('qasm_simulator') \n",
    "job=execute(qc, backend, shots=100)\n",
    "result = job.result()\n",
    "counts = result.get_counts()\n",
    "plot_histogram(counts)"
   ]
  },
  {
   "cell_type": "code",
   "execution_count": 43,
   "metadata": {
    "id": "fakAaAulGy6e"
   },
   "outputs": [],
   "source": [
    "#Circuit \n",
    "qc.decompose().decompose().decompose().decompose().draw('mpl').savefig('qc.png')"
   ]
  },
  {
   "cell_type": "code",
   "execution_count": 44,
   "metadata": {
    "colab": {
     "base_uri": "https://localhost:8080/"
    },
    "id": "L_NoPUX-xIxF",
    "outputId": "b065e123-85e5-4265-9f1b-8764adc3b30a"
   },
   "outputs": [
    {
     "name": "stdout",
     "output_type": "stream",
     "text": [
      "True depth of the circuit is :  5\n"
     ]
    }
   ],
   "source": [
    "print(\"True depth of the circuit is : \", depth(qc))"
   ]
  },
  {
   "cell_type": "code",
   "execution_count": 45,
   "metadata": {
    "colab": {
     "base_uri": "https://localhost:8080/",
     "height": 126
    },
    "id": "dEH5ppRQJaho",
    "outputId": "d989af20-19cf-4609-9b85-bbe15a25eea2"
   },
   "outputs": [
    {
     "data": {
      "text/latex": [
       "$$(0.968912421710645 - 0.247403959254523 i) |000001\\rangle$$"
      ],
      "text/plain": [
       "<IPython.core.display.Latex object>"
      ]
     },
     "execution_count": 45,
     "metadata": {},
     "output_type": "execute_result"
    }
   ],
   "source": [
    "final_state.draw('latex', prefix='State:')"
   ]
  },
  {
   "cell_type": "code",
   "execution_count": 46,
   "metadata": {
    "id": "6thWG0ruJhEf"
   },
   "outputs": [],
   "source": [
    "#Getting the Expectation Values of obsevables\n",
    "final_state = np.array(final_state)\n",
    "\n",
    "exp_x = final_state.conjugate().T @ _X_list @ final_state\n",
    "exp_p = final_state.conjugate().T @ _P_list @ final_state\n",
    "exp_h = final_state.conjugate().T @  H_list @ final_state"
   ]
  },
  {
   "cell_type": "code",
   "execution_count": 47,
   "metadata": {
    "colab": {
     "base_uri": "https://localhost:8080/"
    },
    "id": "4MSJp_yjJnT3",
    "outputId": "652c3545-3769-4db9-8cf0-0157cb60e6d5"
   },
   "outputs": [
    {
     "name": "stdout",
     "output_type": "stream",
     "text": [
      "Expectation Value of x :  [0. 0. 0.]\n",
      "Expectation Value of p :  [0. 0. 0.]\n",
      "Expectation Value of h :  [1.5 0.5 0.5]\n"
     ]
    }
   ],
   "source": [
    "print(\"Expectation Value of x : \" , exp_x.real)\n",
    "print(\"Expectation Value of p : \" , exp_p.real)\n",
    "print(\"Expectation Value of h : \" , exp_h.real)"
   ]
  },
  {
   "cell_type": "markdown",
   "metadata": {
    "id": "nB_Aio-nuj-d"
   },
   "source": [
    "PERFORMING THE COMPUTATION FOR THE ENTIRE INTERVAL"
   ]
  },
  {
   "cell_type": "code",
   "execution_count": 48,
   "metadata": {
    "colab": {
     "base_uri": "https://localhost:8080/"
    },
    "id": "5gMPAPs-Jv95",
    "outputId": "223f8273-b911-46d7-943b-8b52c3bf3f63"
   },
   "outputs": [
    {
     "name": "stdout",
     "output_type": "stream",
     "text": [
      "Total Iterations =  21 \n",
      "\n",
      "\n",
      "iter no :1   |iter time :    0.05031|Depth : 4.0       |Steps :0.0  |\n",
      "iter no :2   |iter time :    0.07373|Depth : 8.0       |Steps :2.0  |\n",
      "iter no :3   |iter time :    0.18051|Depth : 20.0      |Steps :5.0  |\n",
      "iter no :4   |iter time :    0.22962|Depth : 32.0      |Steps :8.0  |\n",
      "iter no :5   |iter time :    0.35105|Depth : 44.0      |Steps :11.0 |\n",
      "iter no :6   |iter time :    0.48258|Depth : 60.0      |Steps :15.0 |\n",
      "iter no :7   |iter time :    0.49230|Depth : 68.0      |Steps :17.0 |\n",
      "iter no :8   |iter time :    0.59133|Depth : 84.0      |Steps :21.0 |\n",
      "iter no :9   |iter time :    0.60785|Depth : 92.0      |Steps :23.0 |\n",
      "iter no :10  |iter time :    0.71020|Depth : 104.0     |Steps :26.0 |\n",
      "iter no :11  |iter time :    0.85477|Depth : 120.0     |Steps :30.0 |\n",
      "iter no :12  |iter time :    1.00136|Depth : 128.0     |Steps :32.0 |\n",
      "iter no :13  |iter time :    0.96177|Depth : 140.0     |Steps :35.0 |\n",
      "iter no :14  |iter time :    1.00707|Depth : 156.0     |Steps :39.0 |\n",
      "iter no :15  |iter time :    1.00893|Depth : 168.0     |Steps :42.0 |\n",
      "iter no :16  |iter time :    1.13656|Depth : 180.0     |Steps :45.0 |\n",
      "iter no :17  |iter time :    1.26721|Depth : 188.0     |Steps :47.0 |\n",
      "iter no :18  |iter time :    1.55835|Depth : 200.0     |Steps :50.0 |\n",
      "iter no :19  |iter time :    1.85931|Depth : 212.0     |Steps :53.0 |\n",
      "iter no :20  |iter time :    1.78378|Depth : 228.0     |Steps :57.0 |\n",
      "iter no :21  |iter time :    1.48530|Depth : 240.0     |Steps :60.0 |\n",
      "\n",
      "\n",
      "\n",
      "Total time taken =  17.693904638290405  s\n"
     ]
    }
   ],
   "source": [
    "#Getting the expectation values for an interval and plotting them\n",
    "t_initial = 0\n",
    "t_final = t_initial + 2*np.pi\n",
    "\n",
    "t_ = np.arange(t_initial,t_final,0.3)\n",
    "no_points = np.shape(t_)[0]\n",
    "_x_ = np.zeros((no_points,N))\n",
    "_p_ = np.zeros((no_points,N))\n",
    "_h_ = np.zeros((no_points,N))\n",
    "\n",
    "time_elapsed = np.zeros(no_points)\n",
    "depth_time = np.zeros(no_points)\n",
    "steps_time = np.zeros(no_points)\n",
    "\n",
    "\n",
    "print(\"Total Iterations = \",no_points,\"\\n\\n\")\n",
    "for i in range(no_points):\n",
    "  QC = QuantumCircuit(num_qubits,num_qubits)\n",
    "  HARMONIC_OSCILLATOR_circuit = QuantumCircuit(num_qubits)\n",
    "  mygate1 = statec.to_gate()\n",
    "  index = list(np.arange(0,num_qubits,1))\n",
    "  QC = QC.compose(mygate1,index)\n",
    "\n",
    "  steps_t = int(t_[i]/time_step_value_t)\n",
    "  steps_time[i] = steps_t\n",
    "\n",
    "  start = time.time()\n",
    "\n",
    "  time_evolution_operator=H*t\n",
    "  time_evolution_operator=time_evolution_operator.exp_i()\n",
    "  full_time_evolution_circuit=PauliTrotterEvolution().convert(time_evolution_operator)\n",
    "  full_time_evolution_circuit=full_time_evolution_circuit.bind_parameters({t:time_step_value_t})\n",
    "  for j in range(steps_t-1):\n",
    "      full_time_evolution_circuit@=PauliTrotterEvolution().convert(time_evolution_operator)\n",
    "      full_time_evolution_circuit=full_time_evolution_circuit.bind_parameters({t:time_step_value_t})\n",
    "  full_time_evolution_circuit=full_time_evolution_circuit.to_circuit()\n",
    "  full_time_evolution_circuit=HARMONIC_OSCILLATOR_circuit.compose(full_time_evolution_circuit)\n",
    "  mygate = full_time_evolution_circuit.to_gate()\n",
    "  index = list(np.arange(0,num_qubits,1))\n",
    "  QC = QC.compose(mygate,index)\n",
    "\n",
    "\n",
    "  stv = qi.Statevector.from_instruction(QC)\n",
    "\n",
    "  sim = QasmSimulator()\n",
    "  options = {'method': 'statevector'}\n",
    "  execute(QC, sim, backend_options=options)\n",
    "\n",
    "\n",
    "  stv = np.array(stv)\n",
    "\n",
    "  _x_[i] = (stv.conjugate().T @ _X_list @ stv).real\n",
    "  _p_[i] = (stv.conjugate().T @ _P_list @ stv).real\n",
    "  _h_[i] = (stv.conjugate().T @  H_list @ stv).real\n",
    "  \n",
    "\n",
    "  end = time.time()\n",
    "  time_elapsed[i] = end-start\n",
    "  depth_time[i] = depth(QC)\n",
    "  txt=\"iter no :{:<4}|iter time : {:10.5f}|Depth : {:<10}|Steps :{:<5}|\"\n",
    "  print(txt.format(i+1,time_elapsed[i],depth_time[i],steps_time[i]))\n",
    "\n",
    "print(\"\\n\\n\")\n",
    "print(\"Total time taken = \",np.sum(time_elapsed),\" s\")"
   ]
  },
  {
   "cell_type": "code",
   "execution_count": 49,
   "metadata": {
    "id": "gCqE3mMRty6_"
   },
   "outputs": [],
   "source": [
    "_x_ = _x_.T\n",
    "_p_ = _p_.T\n",
    "_h_ = _h_.T"
   ]
  },
  {
   "cell_type": "code",
   "execution_count": 50,
   "metadata": {
    "colab": {
     "base_uri": "https://localhost:8080/",
     "height": 295
    },
    "id": "hlwuyz6FsnPf",
    "outputId": "9301c697-9d4d-438c-e72c-3dc94dab5e8b"
   },
   "outputs": [
    {
     "data": {
      "image/png": "[encoded data removed]",
      "text/plain": [
       "<Figure size 432x288 with 1 Axes>"
      ]
     },
     "metadata": {
      "needs_background": "light"
     },
     "output_type": "display_data"
    }
   ],
   "source": [
    "for i in range(N):\n",
    "  plt.plot(t_,_x_[i],label=\"<X\"+str(i+1)+\"(t)>\")\n",
    "  plt.plot(t_,_p_[i],label=\"<P\"+str(i+1)+\"(t)>\")\n",
    "  plt.plot(t_,_h_[i],label=\"<H\"+str(i+1)+\"(t)>\")\n",
    "\n",
    "plt.xlabel('t')\n",
    "plt.ylabel('Expectation value')\n",
    "plt.legend(loc=\"upper right\")\n",
    "plt.title('<X(t)>,<P(t)>,<H(t)>')\n",
    "plt.grid()\n",
    "# plt.savefig('|000000>+|000001>.svg', format='svg', dpi=1200)"
   ]
  },
  {
   "cell_type": "code",
   "execution_count": 51,
   "metadata": {
    "colab": {
     "base_uri": "https://localhost:8080/",
     "height": 295
    },
    "id": "vTScY7_DKDuJ",
    "outputId": "7920d655-e1b7-474e-a861-c8edaa6b7504"
   },
   "outputs": [
    {
     "data": {
      "image/png": "[encoded data removed]",
      "text/plain": [
       "<Figure size 432x288 with 1 Axes>"
      ]
     },
     "metadata": {
      "needs_background": "light"
     },
     "output_type": "display_data"
    }
   ],
   "source": [
    "for i in range(N):\n",
    "  plt.plot(t_,_x_[i],label=\"<x\"+str(i+1)+\"(t)>\")\n",
    "plt.xlabel('t')\n",
    "plt.ylabel('Expectation value')\n",
    "plt.legend(loc=\"upper right\")\n",
    "plt.title('<X(t)>')\n",
    "plt.grid()\n",
    "plt.show()\n",
    "# plt.savefig('X expectation.png')"
   ]
  },
  {
   "cell_type": "code",
   "execution_count": 52,
   "metadata": {
    "colab": {
     "base_uri": "https://localhost:8080/",
     "height": 295
    },
    "id": "WGNHEtT0S3q4",
    "outputId": "980aa35c-4e2b-4cf1-99a9-22243967556c"
   },
   "outputs": [
    {
     "data": {
      "image/png": "[encoded data removed]",
      "text/plain": [
       "<Figure size 432x288 with 1 Axes>"
      ]
     },
     "metadata": {
      "needs_background": "light"
     },
     "output_type": "display_data"
    }
   ],
   "source": [
    "for i in range(N):\n",
    "  plt.plot(t_,_p_[i],label=\"<p\"+str(i+1)+\"(t)>\")\n",
    "plt.xlabel('t')\n",
    "plt.ylabel('Expectation value')\n",
    "plt.legend(loc=\"upper right\")\n",
    "plt.title('<P(t)>')\n",
    "plt.grid()\n",
    "plt.show()\n",
    "# plt.savefig('P expectation.png')"
   ]
  },
  {
   "cell_type": "code",
   "execution_count": 53,
   "metadata": {
    "colab": {
     "base_uri": "https://localhost:8080/",
     "height": 295
    },
    "id": "XwBlsE26sBf3",
    "outputId": "7e562518-dfaa-49d2-b716-e6a618385a25"
   },
   "outputs": [
    {
     "data": {
      "image/png": "[encoded data removed]",
      "text/plain": [
       "<Figure size 432x288 with 1 Axes>"
      ]
     },
     "metadata": {
      "needs_background": "light"
     },
     "output_type": "display_data"
    }
   ],
   "source": [
    "for i in range(N):\n",
    "  plt.plot(t_,_h_[i],label=\"<h\"+str(i+1)+\"(t)>\")\n",
    "plt.xlabel('t')\n",
    "plt.ylabel('Expectation value')\n",
    "plt.legend(loc=\"upper right\")\n",
    "plt.title('<H(t)>')\n",
    "plt.grid()\n",
    "plt.show()\n",
    "# plt.savefig('H expectation.png')"
   ]
  },
  {
   "cell_type": "code",
   "execution_count": 54,
   "metadata": {
    "colab": {
     "base_uri": "https://localhost:8080/",
     "height": 312
    },
    "id": "Zk8Cd1W2pn_o",
    "outputId": "ab7f0bf5-5f4a-451e-cbed-43cab8e587c7"
   },
   "outputs": [
    {
     "data": {
      "image/png": "[encoded data removed]",
      "text/plain": [
       "<Figure size 432x288 with 1 Axes>"
      ]
     },
     "metadata": {
      "needs_background": "light"
     },
     "output_type": "display_data"
    },
    {
     "data": {
      "text/plain": [
       "<Figure size 432x288 with 0 Axes>"
      ]
     },
     "metadata": {},
     "output_type": "display_data"
    }
   ],
   "source": [
    "plt.plot(steps_time,depth_time)\n",
    "plt.xlabel('steps')\n",
    "plt.ylabel('Depth')\n",
    "plt.title('Depth versus Number of steps')\n",
    "plt.grid()\n",
    "plt.show()\n",
    "plt.savefig('dvs_sup.svg', format='svg', dpi=1200)"
   ]
  },
  {
   "cell_type": "code",
   "execution_count": 55,
   "metadata": {
    "colab": {
     "base_uri": "https://localhost:8080/",
     "height": 312
    },
    "id": "3lH_51wE_4I7",
    "outputId": "fa4c0538-e4ce-4f00-e7bd-b4699deb89d4"
   },
   "outputs": [
    {
     "data": {
      "image/png": "[encoded data removed]",
      "text/plain": [
       "<Figure size 432x288 with 1 Axes>"
      ]
     },
     "metadata": {
      "needs_background": "light"
     },
     "output_type": "display_data"
    },
    {
     "data": {
      "text/plain": [
       "<Figure size 432x288 with 0 Axes>"
      ]
     },
     "metadata": {},
     "output_type": "display_data"
    }
   ],
   "source": [
    "plt.plot(t_,depth_time)\n",
    "plt.xlabel('time')\n",
    "plt.ylabel('Depth')\n",
    "plt.title('Depth versus time')\n",
    "plt.grid()\n",
    "plt.show()\n",
    "plt.savefig('dvt_sup.svg', format='svg', dpi=1200)"
   ]
  },
  {
   "cell_type": "code",
   "execution_count": 56,
   "metadata": {
    "colab": {
     "base_uri": "https://localhost:8080/",
     "height": 265
    },
    "id": "2eNvqmW4Anz2",
    "outputId": "62958369-8099-4350-8ae0-20c4bba09f02"
   },
   "outputs": [
    {
     "data": {
      "image/png": "[encoded data removed]",
      "text/plain": [
       "<Figure size 432x288 with 1 Axes>"
      ]
     },
     "metadata": {
      "needs_background": "light"
     },
     "output_type": "display_data"
    }
   ],
   "source": [
    "bazinga = np.linspace(0,2*np.pi,100)\n",
    "double_bazinga = np.sin(bazinga)\n",
    "plt.plot(bazinga,double_bazinga)\n",
    "# plt.savefig('myimage.svg', format='svg', dpi=1200)"
   ]
  },
  {
   "cell_type": "code",
   "execution_count": 57,
   "metadata": {
    "colab": {
     "base_uri": "https://localhost:8080/"
    },
    "id": "vWQamKG-0ZdC",
    "outputId": "2e92ec36-16a7-4a5b-b9a1-2840ccc0e1bc"
   },
   "outputs": [
    {
     "name": "stdout",
     "output_type": "stream",
     "text": [
      "[2.5 2.5 2.5 2.5 2.5 2.5 2.5 2.5 2.5 2.5 2.5 2.5 2.5 2.5 2.5 2.5 2.5 2.5\n",
      " 2.5 2.5 2.5]\n"
     ]
    }
   ],
   "source": [
    "print((_h_[0]+_h_[ 1]+_h_[2]))"
   ]
  },
  {
   "cell_type": "code",
   "execution_count": 58,
   "metadata": {
    "colab": {
     "base_uri": "https://localhost:8080/",
     "height": 337
    },
    "id": "HIRJNCknycPm",
    "outputId": "8a5b7817-52e4-4758-9d49-e6f2b9ee9af1"
   },
   "outputs": [
    {
     "name": "stderr",
     "output_type": "stream",
     "text": [
      "C:\\Users\\Ganesh\\anaconda3\\lib\\site-packages\\numpy\\core\\_asarray.py:102: ComplexWarning: Casting complex values to real discards the imaginary part\n",
      "  return array(a, dtype, copy=False, order=order)\n"
     ]
    },
    {
     "data": {
      "text/plain": [
       "[<matplotlib.lines.Line2D at 0x28d3d9063d0>]"
      ]
     },
     "execution_count": 58,
     "metadata": {},
     "output_type": "execute_result"
    },
    {
     "data": {
      "image/png": "[encoded data removed]",
      "text/plain": [
       "<Figure size 432x288 with 1 Axes>"
      ]
     },
     "metadata": {
      "needs_background": "light"
     },
     "output_type": "display_data"
    }
   ],
   "source": [
    "plt.plot(np.exp(-1j*t_))"
   ]
  },
  {
   "cell_type": "code",
   "execution_count": null,
   "metadata": {
    "id": "3MfpLhLrzGzU"
   },
   "outputs": [],
   "source": []
  },
  {
   "cell_type": "code",
   "execution_count": null,
   "metadata": {},
   "outputs": [],
   "source": []
  },
  {
   "cell_type": "code",
   "execution_count": null,
   "metadata": {},
   "outputs": [],
   "source": []
  }
 ],
 "metadata": {
  "colab": {
   "provenance": []
  },
  "kernelspec": {
   "display_name": "Python 3 (ipykernel)",
   "language": "python",
   "name": "python3"
  },
  "language_info": {
   "codemirror_mode": {
    "name": "ipython",
    "version": 3
   },
   "file_extension": ".py",
   "mimetype": "text/x-python",
   "name": "python",
   "nbconvert_exporter": "python",
   "pygments_lexer": "ipython3",
   "version": "3.9.7"
  }
 },
 "nbformat": 4,
 "nbformat_minor": 1
}
