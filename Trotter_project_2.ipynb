{
  "nbformat": 4,
  "nbformat_minor": 0,
  "metadata": {
    "colab": {
      "provenance": []
    },
    "kernelspec": {
      "name": "python3",
      "display_name": "Python 3"
    },
    "language_info": {
      "name": "python"
    }
  },
  "cells": [
    {
      "cell_type": "code",
      "source": [
        "!pip install qiskit\n",
        "!pip install pylatexenc"
      ],
      "metadata": {
        "colab": {
          "base_uri": "https://localhost:8080/"
        },
        "id": "BHu_RzRKacoZ",
        "outputId": "ea9728f9-e61c-4355-e4c3-6085554e8a4f"
      },
      "execution_count": null,
      "outputs": [
        {
          "output_type": "stream",
          "name": "stdout",
          "text": [
            "Looking in indexes: https://pypi.org/simple, https://us-python.pkg.dev/colab-wheels/public/simple/\n",
            "Collecting qiskit\n",
            "  Downloading qiskit-0.39.2.tar.gz (13 kB)\n",
            "Collecting qiskit-terra==0.22.2\n",
            "  Downloading qiskit_terra-0.22.2-cp37-cp37m-manylinux_2_17_x86_64.manylinux2014_x86_64.whl (4.8 MB)\n",
            "\u001b[K     |████████████████████████████████| 4.8 MB 5.0 MB/s \n",
            "\u001b[?25hCollecting qiskit-aer==0.11.1\n",
            "  Downloading qiskit_aer-0.11.1-cp37-cp37m-manylinux_2_17_x86_64.manylinux2014_x86_64.whl (19.2 MB)\n",
            "\u001b[K     |████████████████████████████████| 19.2 MB 285 kB/s \n",
            "\u001b[?25hCollecting qiskit-ibmq-provider==0.19.2\n",
            "  Downloading qiskit_ibmq_provider-0.19.2-py3-none-any.whl (240 kB)\n",
            "\u001b[K     |████████████████████████████████| 240 kB 53.2 MB/s \n",
            "\u001b[?25hRequirement already satisfied: scipy>=1.0 in /usr/local/lib/python3.7/dist-packages (from qiskit-aer==0.11.1->qiskit) (1.7.3)\n",
            "Requirement already satisfied: numpy>=1.16.3 in /usr/local/lib/python3.7/dist-packages (from qiskit-aer==0.11.1->qiskit) (1.21.6)\n",
            "Collecting requests-ntlm>=1.1.0\n",
            "  Downloading requests_ntlm-1.1.0-py2.py3-none-any.whl (5.7 kB)\n",
            "Requirement already satisfied: python-dateutil>=2.8.0 in /usr/local/lib/python3.7/dist-packages (from qiskit-ibmq-provider==0.19.2->qiskit) (2.8.2)\n",
            "Requirement already satisfied: requests>=2.19 in /usr/local/lib/python3.7/dist-packages (from qiskit-ibmq-provider==0.19.2->qiskit) (2.23.0)\n",
            "Collecting websockets>=10.0\n",
            "  Downloading websockets-10.4-cp37-cp37m-manylinux_2_5_x86_64.manylinux1_x86_64.manylinux_2_17_x86_64.manylinux2014_x86_64.whl (106 kB)\n",
            "\u001b[K     |████████████████████████████████| 106 kB 62.8 MB/s \n",
            "\u001b[?25hRequirement already satisfied: urllib3>=1.21.1 in /usr/local/lib/python3.7/dist-packages (from qiskit-ibmq-provider==0.19.2->qiskit) (1.24.3)\n",
            "Collecting websocket-client>=1.0.1\n",
            "  Downloading websocket_client-1.4.2-py3-none-any.whl (55 kB)\n",
            "\u001b[K     |████████████████████████████████| 55 kB 2.9 MB/s \n",
            "\u001b[?25hRequirement already satisfied: typing-extensions in /usr/local/lib/python3.7/dist-packages (from qiskit-terra==0.22.2->qiskit) (4.1.1)\n",
            "Collecting symengine>=0.9\n",
            "  Downloading symengine-0.9.2-cp37-cp37m-manylinux2010_x86_64.whl (37.5 MB)\n",
            "\u001b[K     |████████████████████████████████| 37.5 MB 1.3 MB/s \n",
            "\u001b[?25hCollecting tweedledum<2.0,>=1.1\n",
            "  Downloading tweedledum-1.1.1-cp37-cp37m-manylinux_2_12_x86_64.manylinux2010_x86_64.whl (943 kB)\n",
            "\u001b[K     |████████████████████████████████| 943 kB 53.0 MB/s \n",
            "\u001b[?25hCollecting stevedore>=3.0.0\n",
            "  Downloading stevedore-3.5.2-py3-none-any.whl (50 kB)\n",
            "\u001b[K     |████████████████████████████████| 50 kB 5.2 MB/s \n",
            "\u001b[?25hRequirement already satisfied: psutil>=5 in /usr/local/lib/python3.7/dist-packages (from qiskit-terra==0.22.2->qiskit) (5.4.8)\n",
            "Collecting retworkx>=0.11.0\n",
            "  Downloading retworkx-0.12.0-py3-none-any.whl (10 kB)\n",
            "Collecting shared-memory38\n",
            "  Downloading shared_memory38-0.1.2-cp37-cp37m-manylinux_2_5_x86_64.manylinux1_x86_64.whl (25 kB)\n",
            "Requirement already satisfied: importlib-metadata<5.0 in /usr/local/lib/python3.7/dist-packages (from qiskit-terra==0.22.2->qiskit) (4.13.0)\n",
            "Requirement already satisfied: dill>=0.3 in /usr/local/lib/python3.7/dist-packages (from qiskit-terra==0.22.2->qiskit) (0.3.6)\n",
            "Requirement already satisfied: sympy>=1.3 in /usr/local/lib/python3.7/dist-packages (from qiskit-terra==0.22.2->qiskit) (1.7.1)\n",
            "Collecting ply>=3.10\n",
            "  Downloading ply-3.11-py2.py3-none-any.whl (49 kB)\n",
            "\u001b[K     |████████████████████████████████| 49 kB 5.9 MB/s \n",
            "\u001b[?25hRequirement already satisfied: zipp>=0.5 in /usr/local/lib/python3.7/dist-packages (from importlib-metadata<5.0->qiskit-terra==0.22.2->qiskit) (3.10.0)\n",
            "Requirement already satisfied: six>=1.5 in /usr/local/lib/python3.7/dist-packages (from python-dateutil>=2.8.0->qiskit-ibmq-provider==0.19.2->qiskit) (1.15.0)\n",
            "Requirement already satisfied: chardet<4,>=3.0.2 in /usr/local/lib/python3.7/dist-packages (from requests>=2.19->qiskit-ibmq-provider==0.19.2->qiskit) (3.0.4)\n",
            "Requirement already satisfied: idna<3,>=2.5 in /usr/local/lib/python3.7/dist-packages (from requests>=2.19->qiskit-ibmq-provider==0.19.2->qiskit) (2.10)\n",
            "Requirement already satisfied: certifi>=2017.4.17 in /usr/local/lib/python3.7/dist-packages (from requests>=2.19->qiskit-ibmq-provider==0.19.2->qiskit) (2022.9.24)\n",
            "Collecting cryptography>=1.3\n",
            "  Downloading cryptography-38.0.3-cp36-abi3-manylinux_2_24_x86_64.whl (4.1 MB)\n",
            "\u001b[K     |████████████████████████████████| 4.1 MB 43.1 MB/s \n",
            "\u001b[?25hCollecting ntlm-auth>=1.0.2\n",
            "  Downloading ntlm_auth-1.5.0-py2.py3-none-any.whl (29 kB)\n",
            "Requirement already satisfied: cffi>=1.12 in /usr/local/lib/python3.7/dist-packages (from cryptography>=1.3->requests-ntlm>=1.1.0->qiskit-ibmq-provider==0.19.2->qiskit) (1.15.1)\n",
            "Requirement already satisfied: pycparser in /usr/local/lib/python3.7/dist-packages (from cffi>=1.12->cryptography>=1.3->requests-ntlm>=1.1.0->qiskit-ibmq-provider==0.19.2->qiskit) (2.21)\n",
            "Collecting rustworkx==0.12.0\n",
            "  Downloading rustworkx-0.12.0-cp37-cp37m-manylinux_2_17_x86_64.manylinux2014_x86_64.whl (1.9 MB)\n",
            "\u001b[K     |████████████████████████████████| 1.9 MB 58.3 MB/s \n",
            "\u001b[?25hCollecting pbr!=2.1.0,>=2.0.0\n",
            "  Downloading pbr-5.11.0-py2.py3-none-any.whl (112 kB)\n",
            "\u001b[K     |████████████████████████████████| 112 kB 42.3 MB/s \n",
            "\u001b[?25hRequirement already satisfied: mpmath>=0.19 in /usr/local/lib/python3.7/dist-packages (from sympy>=1.3->qiskit-terra==0.22.2->qiskit) (1.2.1)\n",
            "Building wheels for collected packages: qiskit\n",
            "  Building wheel for qiskit (setup.py) ... \u001b[?25l\u001b[?25hdone\n",
            "  Created wheel for qiskit: filename=qiskit-0.39.2-py3-none-any.whl size=12224 sha256=ee37f7909442839a05cf55c1434477a2f2c832e2946442e5056f4402cd769925\n",
            "  Stored in directory: /root/.cache/pip/wheels/30/dc/90/0ee55ccffd13c16db1abd4c43028f7c9cedb5576b190402190\n",
            "Successfully built qiskit\n",
            "Installing collected packages: rustworkx, pbr, tweedledum, symengine, stevedore, shared-memory38, retworkx, ply, ntlm-auth, cryptography, websockets, websocket-client, requests-ntlm, qiskit-terra, qiskit-ibmq-provider, qiskit-aer, qiskit\n",
            "Successfully installed cryptography-38.0.3 ntlm-auth-1.5.0 pbr-5.11.0 ply-3.11 qiskit-0.39.2 qiskit-aer-0.11.1 qiskit-ibmq-provider-0.19.2 qiskit-terra-0.22.2 requests-ntlm-1.1.0 retworkx-0.12.0 rustworkx-0.12.0 shared-memory38-0.1.2 stevedore-3.5.2 symengine-0.9.2 tweedledum-1.1.1 websocket-client-1.4.2 websockets-10.4\n",
            "Looking in indexes: https://pypi.org/simple, https://us-python.pkg.dev/colab-wheels/public/simple/\n",
            "Collecting pylatexenc\n",
            "  Downloading pylatexenc-2.10.tar.gz (162 kB)\n",
            "\u001b[K     |████████████████████████████████| 162 kB 4.6 MB/s \n",
            "\u001b[?25hBuilding wheels for collected packages: pylatexenc\n",
            "  Building wheel for pylatexenc (setup.py) ... \u001b[?25l\u001b[?25hdone\n",
            "  Created wheel for pylatexenc: filename=pylatexenc-2.10-py3-none-any.whl size=136833 sha256=213227cbf593499e2c5e168b3e96d955582d86cb8b5a3c4a5aa7a273a5f799fe\n",
            "  Stored in directory: /root/.cache/pip/wheels/f1/8a/f5/33ee79d4473eb201b519fa40f989b842e373237395a3421f52\n",
            "Successfully built pylatexenc\n",
            "Installing collected packages: pylatexenc\n",
            "Successfully installed pylatexenc-2.10\n"
          ]
        }
      ]
    },
    {
      "cell_type": "code",
      "execution_count": null,
      "metadata": {
        "id": "C_eWPykIaPIl"
      },
      "outputs": [],
      "source": [
        "import numpy as np\n",
        "from qiskit.opflow import I, X, Y, Z, MatrixEvolution, PauliTrotterEvolution\n",
        "from qiskit.circuit import Parameter\n",
        "from qiskit import QuantumCircuit\n",
        "from qiskit import Aer\n",
        "from qiskit.compiler import transpile\n",
        "from qiskit import QuantumCircuit, transpile, assemble, Aer, IBMQ, execute\n",
        "from qiskit.visualization import *\n",
        "import numpy as np\n",
        "from numpy import pi\n",
        "import pylatexenc\n",
        "\n",
        "# Importing standard Qiskit libraries\n",
        "from qiskit import QuantumCircuit, transpile, assemble, Aer, IBMQ, execute\n",
        "from qiskit.quantum_info import Statevector\n",
        "from qiskit.visualization import plot_bloch_multivector, plot_histogram\n",
        "import qiskit\n",
        "from qiskit import execute\n",
        "import numpy as np\n",
        "from qiskit.opflow import I, X, Y, Z, MatrixEvolution, PauliTrotterEvolution\n",
        "from qiskit.circuit import Parameter\n",
        "from qiskit import QuantumCircuit\n",
        "from qiskit import Aer\n",
        "from qiskit.compiler import transpile\n",
        "from qiskit.visualization import *\n",
        "import pylatexenc\n",
        "import numpy as np\n",
        "\n",
        "# Importing standard Qiskit libraries\n",
        "from qiskit import QuantumCircuit, Aer, execute\n",
        "from qiskit.tools.jupyter import *\n",
        "from qiskit.visualization import *\n",
        "from qiskit.quantum_info import Statevector"
      ]
    },
    {
      "cell_type": "markdown",
      "source": [
        "#Matrix Representation"
      ],
      "metadata": {
        "id": "a6RfanIj2dW0"
      }
    },
    {
      "cell_type": "code",
      "source": [
        "a = np.array([[0, np.sqrt(1),0,0,0,0,0,0,0,0],\n",
        "             [0, 0,np.sqrt(2),0,0,0,0,0,0,0],\n",
        "             [0, 0,0,np.sqrt(3),0,0,0,0,0,0],\n",
        "             [0, 0,0,0,np.sqrt(4),0,0,0,0,0],\n",
        "             [0, 0,0,0,0,np.sqrt(5),0,0,0,0],\n",
        "             [0, 0,0,0,0,0,np.sqrt(6),0,0,0],\n",
        "             [0, 0,0,0,0,0,0,np.sqrt(7),0,0],\n",
        "             [0, 0,0,0,0,0,0,0,np.sqrt(8),0],\n",
        "             [0, 0,0,0,0,0,0,0,0,np.sqrt(9)],\n",
        "             [0, 0,0,0,0,0,0,0,0,0]])\n",
        "\n",
        "a_dagger = np.array([[0, 0,0,0,0,0,0,0,0,0],\n",
        "             [np.sqrt(1), 0,0,0,0,0,0,0,0,0],\n",
        "             [0, np.sqrt(2),0,0,0,0,0,0,0,0],\n",
        "             [0, 0,np.sqrt(3),0,0,0,0,0,0,0],\n",
        "             [0, 0,0,np.sqrt(4),0,0,0,0,0,0],\n",
        "             [0, 0,0,0,np.sqrt(5),0,0,0,0,0],\n",
        "             [0, 0,0,0,0,np.sqrt(6),0,0,0,0],\n",
        "             [0, 0,0,0,0,0,np.sqrt(7),0,0,0],\n",
        "             [0, 0,0,0,0,0,0,np.sqrt(8),0,0],\n",
        "             [0, 0,0,0,0,0,0,0,np.sqrt(9),0]])\n",
        "\n",
        "x = a + a_dagger\n",
        "p = a - a_dagger\n",
        "H = a_dagger@a + 1/2*np.identity(10)"
      ],
      "metadata": {
        "id": "CPdbp1242gWJ"
      },
      "execution_count": null,
      "outputs": []
    },
    {
      "cell_type": "code",
      "source": [
        "print(np.linalg.eig(x))\n",
        "print(np.linalg.eig(p))\n",
        "print(np.linalg.eig(a))\n",
        "print(np.linalg.eig(a_dagger))"
      ],
      "metadata": {
        "id": "y7o714YImAka",
        "colab": {
          "base_uri": "https://localhost:8080/"
        },
        "outputId": "91ac847c-8a09-4a12-f24a-e2af81cbd76e"
      },
      "execution_count": null,
      "outputs": [
        {
          "output_type": "stream",
          "name": "stdout",
          "text": [
            "(array([-4.85946283, -3.58182348, -2.48432584, -1.46598909,  4.85946283,\n",
            "       -0.48493571,  0.48493571,  1.46598909,  3.58182348,  2.48432584]), array([[-0.00207621, -0.02753309, -0.13824464,  0.36808111,  0.00207621,\n",
            "        -0.58706246, -0.58706246,  0.36808111,  0.02753309,  0.13824464],\n",
            "       [ 0.01008927,  0.09861866,  0.34344473, -0.53960289,  0.01008927,\n",
            "         0.28468755, -0.28468755,  0.53960289,  0.09861866,  0.34344473],\n",
            "       [-0.03320024, -0.23030577, -0.50557002,  0.29908555,  0.03320024,\n",
            "         0.31749611,  0.31749611,  0.29908555,  0.23030577,  0.50557002],\n",
            "       [ 0.08490913,  0.39574288,  0.44473088,  0.18744113,  0.08490913,\n",
            "        -0.32133826,  0.32133826, -0.18744113,  0.39574288,  0.44473088],\n",
            "       [-0.17755414, -0.50928993, -0.11459172, -0.39640902,  0.17755414,\n",
            "        -0.1970455 , -0.1970455 , -0.39640902,  0.50928993,  0.11459172],\n",
            "       [ 0.30991879,  0.46183786, -0.2704652 ,  0.09223737,  0.30991879,\n",
            "         0.3301469 , -0.3301469 , -0.09223737,  0.46183786, -0.2704652 ],\n",
            "       [-0.45275377, -0.21041721,  0.37891915,  0.30666735,  0.45275377,\n",
            "         0.11451655,  0.11451655,  0.30666735,  0.21041721, -0.37891915],\n",
            "       [ 0.54464575, -0.14271553, -0.105398  , -0.25531707,  0.54464575,\n",
            "        -0.3266462 ,  0.3266462 ,  0.25531707, -0.14271553, -0.105398  ],\n",
            "       [-0.51223236,  0.37755735, -0.26187094, -0.15452882,  0.51223236,\n",
            "        -0.05111671, -0.05111671, -0.15452882, -0.37755735,  0.26187094],\n",
            "       [ 0.31622777, -0.31622777,  0.31622777,  0.31622777,  0.31622777,\n",
            "         0.31622777, -0.31622777, -0.31622777, -0.31622777,  0.31622777]]))\n",
            "(array([-4.57966998e-16+4.85946283j, -4.57966998e-16-4.85946283j,\n",
            "        0.00000000e+00+3.58182348j,  0.00000000e+00-3.58182348j,\n",
            "        1.73472348e-17+0.48493571j,  1.73472348e-17-0.48493571j,\n",
            "        0.00000000e+00+1.46598909j,  0.00000000e+00-1.46598909j,\n",
            "       -1.11022302e-16+2.48432584j, -1.11022302e-16-2.48432584j]), array([[ 4.30301171e-18-2.07621112e-03j,  4.30301171e-18+2.07621112e-03j,\n",
            "         2.75330880e-02+8.13682230e-17j,  2.75330880e-02-8.13682230e-17j,\n",
            "        -5.87062463e-01+0.00000000e+00j, -5.87062463e-01-0.00000000e+00j,\n",
            "         1.04634487e-17-3.68081109e-01j,  1.04634487e-17+3.68081109e-01j,\n",
            "        -1.38244640e-01+2.21741390e-17j, -1.38244640e-01-2.21741390e-17j],\n",
            "       [ 1.00892708e-02-5.02696477e-19j,  1.00892708e-02+5.02696477e-19j,\n",
            "        -1.03806104e-16+9.86186611e-02j, -1.03806104e-16-9.86186611e-02j,\n",
            "         3.57545646e-17-2.84687551e-01j,  3.57545646e-17+2.84687551e-01j,\n",
            "         5.39602892e-01+0.00000000e+00j,  5.39602892e-01-0.00000000e+00j,\n",
            "        -7.78790403e-18-3.43444732e-01j, -7.78790403e-18+3.43444732e-01j],\n",
            "       [-3.60007466e-18+3.32002368e-02j, -3.60007466e-18-3.32002368e-02j,\n",
            "        -2.30305774e-01-2.02477660e-17j, -2.30305774e-01+2.02477660e-17j,\n",
            "        -3.17496109e-01-1.90709095e-17j, -3.17496109e-01+1.90709095e-17j,\n",
            "         1.30641958e-17+2.99085553e-01j,  1.30641958e-17-2.99085553e-01j,\n",
            "         5.05570022e-01+0.00000000e+00j,  5.05570022e-01-0.00000000e+00j],\n",
            "       [-8.49091335e-02+4.01581019e-18j, -8.49091335e-02-4.01581019e-18j,\n",
            "        -1.63663584e-16-3.95742883e-01j, -1.63663584e-16+3.95742883e-01j,\n",
            "        -1.76113679e-16-3.21338262e-01j, -1.76113679e-16+3.21338262e-01j,\n",
            "         1.87441135e-01+3.10125267e-17j,  1.87441135e-01-3.10125267e-17j,\n",
            "         4.51926260e-17+4.44730876e-01j,  4.51926260e-17-4.44730876e-01j],\n",
            "       [ 1.82448807e-17-1.77554140e-01j,  1.82448807e-17+1.77554140e-01j,\n",
            "         5.09289925e-01+0.00000000e+00j,  5.09289925e-01-0.00000000e+00j,\n",
            "        -1.97045498e-01-7.81426132e-17j, -1.97045498e-01+7.81426132e-17j,\n",
            "         7.14247739e-17+3.96409017e-01j,  7.14247739e-17-3.96409017e-01j,\n",
            "        -1.14591722e-01+1.99342271e-17j, -1.14591722e-01-1.99342271e-17j],\n",
            "       [ 3.09918788e-01+1.22724994e-17j,  3.09918788e-01-1.22724994e-17j,\n",
            "        -4.16184398e-17+4.61837859e-01j, -4.16184398e-17-4.61837859e-01j,\n",
            "         1.26092954e-16-3.30146905e-01j,  1.26092954e-16+3.30146905e-01j,\n",
            "        -9.22373685e-02-9.35159896e-18j, -9.22373685e-02+9.35159896e-18j,\n",
            "        -2.24466032e-17+2.70465202e-01j, -2.24466032e-17-2.70465202e-01j],\n",
            "       [-6.40711740e-17+4.52753765e-01j, -6.40711740e-17-4.52753765e-01j,\n",
            "        -2.10417210e-01+2.63627082e-17j, -2.10417210e-01-2.63627082e-17j,\n",
            "        -1.14516546e-01+9.08814327e-19j, -1.14516546e-01-9.08814327e-19j,\n",
            "        -1.52736220e-17+3.06667352e-01j, -1.52736220e-17-3.06667352e-01j,\n",
            "        -3.78919149e-01+2.66818528e-17j, -3.78919149e-01-2.66818528e-17j],\n",
            "       [-5.44645747e-01+0.00000000e+00j, -5.44645747e-01-0.00000000e+00j,\n",
            "        -3.71102344e-17+1.42715528e-01j, -3.71102344e-17-1.42715528e-01j,\n",
            "         5.30551981e-17-3.26646202e-01j,  5.30551981e-17+3.26646202e-01j,\n",
            "        -2.55317073e-01+4.49438161e-18j, -2.55317073e-01-4.49438161e-18j,\n",
            "        -1.00610963e-17-1.05398000e-01j, -1.00610963e-17+1.05398000e-01j],\n",
            "       [ 2.74127065e-17-5.12232358e-01j,  2.74127065e-17+5.12232358e-01j,\n",
            "        -3.77557346e-01+1.89330521e-16j, -3.77557346e-01-1.89330521e-16j,\n",
            "        -5.11167118e-02-3.86843336e-17j, -5.11167118e-02+3.86843336e-17j,\n",
            "         4.10116826e-17+1.54528819e-01j,  4.10116826e-17-1.54528819e-01j,\n",
            "        -2.61870937e-01-2.23803945e-18j, -2.61870937e-01+2.23803945e-18j],\n",
            "       [ 3.16227766e-01+2.79723489e-18j,  3.16227766e-01-2.79723489e-18j,\n",
            "        -1.77670907e-16-3.16227766e-01j, -1.77670907e-16+3.16227766e-01j,\n",
            "        -1.16846003e-16-3.16227766e-01j, -1.16846003e-16+3.16227766e-01j,\n",
            "        -3.16227766e-01+2.86657692e-17j, -3.16227766e-01-2.86657692e-17j,\n",
            "        -2.26691481e-17-3.16227766e-01j, -2.26691481e-17+3.16227766e-01j]]))\n",
            "(array([0., 0., 0., 0., 0., 0., 0., 0., 0., 0.]), array([[ 1.00000000e+000, -1.00000000e+000,  1.00000000e+000,\n",
            "        -1.00000000e+000,  1.00000000e+000, -1.00000000e+000,\n",
            "         1.00000000e+000, -1.00000000e+000,  1.00000000e+000,\n",
            "        -1.00000000e+000],\n",
            "       [ 0.00000000e+000,  1.00208418e-291, -1.00208418e-291,\n",
            "         1.00208418e-291, -1.00208418e-291,  1.00208418e-291,\n",
            "        -1.00208418e-291,  1.00208418e-291, -1.00208418e-291,\n",
            "         1.00208418e-291],\n",
            "       [ 0.00000000e+000,  0.00000000e+000,  0.00000000e+000,\n",
            "        -0.00000000e+000,  0.00000000e+000, -0.00000000e+000,\n",
            "         0.00000000e+000, -0.00000000e+000,  0.00000000e+000,\n",
            "        -0.00000000e+000],\n",
            "       [ 0.00000000e+000,  0.00000000e+000,  0.00000000e+000,\n",
            "         0.00000000e+000,  0.00000000e+000,  0.00000000e+000,\n",
            "         0.00000000e+000,  0.00000000e+000,  0.00000000e+000,\n",
            "         0.00000000e+000],\n",
            "       [ 0.00000000e+000,  0.00000000e+000,  0.00000000e+000,\n",
            "         0.00000000e+000,  0.00000000e+000,  0.00000000e+000,\n",
            "         0.00000000e+000,  0.00000000e+000,  0.00000000e+000,\n",
            "         0.00000000e+000],\n",
            "       [ 0.00000000e+000,  0.00000000e+000,  0.00000000e+000,\n",
            "         0.00000000e+000,  0.00000000e+000,  0.00000000e+000,\n",
            "         0.00000000e+000,  0.00000000e+000,  0.00000000e+000,\n",
            "         0.00000000e+000],\n",
            "       [ 0.00000000e+000,  0.00000000e+000,  0.00000000e+000,\n",
            "         0.00000000e+000,  0.00000000e+000,  0.00000000e+000,\n",
            "         0.00000000e+000,  0.00000000e+000,  0.00000000e+000,\n",
            "         0.00000000e+000],\n",
            "       [ 0.00000000e+000,  0.00000000e+000,  0.00000000e+000,\n",
            "         0.00000000e+000,  0.00000000e+000,  0.00000000e+000,\n",
            "         0.00000000e+000,  0.00000000e+000,  0.00000000e+000,\n",
            "         0.00000000e+000],\n",
            "       [ 0.00000000e+000,  0.00000000e+000,  0.00000000e+000,\n",
            "         0.00000000e+000,  0.00000000e+000,  0.00000000e+000,\n",
            "         0.00000000e+000,  0.00000000e+000,  0.00000000e+000,\n",
            "         0.00000000e+000],\n",
            "       [ 0.00000000e+000,  0.00000000e+000,  0.00000000e+000,\n",
            "         0.00000000e+000,  0.00000000e+000,  0.00000000e+000,\n",
            "         0.00000000e+000,  0.00000000e+000,  0.00000000e+000,\n",
            "         0.00000000e+000]]))\n",
            "(array([0., 0., 0., 0., 0., 0., 0., 0., 0., 0.]), array([[ 0.0000000e+000,  0.0000000e+000,  0.0000000e+000,\n",
            "         0.0000000e+000,  0.0000000e+000,  0.0000000e+000,\n",
            "         0.0000000e+000,  0.0000000e+000,  0.0000000e+000,\n",
            "         0.0000000e+000],\n",
            "       [ 0.0000000e+000,  0.0000000e+000,  0.0000000e+000,\n",
            "         0.0000000e+000,  0.0000000e+000,  0.0000000e+000,\n",
            "         0.0000000e+000,  0.0000000e+000,  0.0000000e+000,\n",
            "         0.0000000e+000],\n",
            "       [ 0.0000000e+000,  0.0000000e+000,  0.0000000e+000,\n",
            "         0.0000000e+000,  0.0000000e+000,  0.0000000e+000,\n",
            "         0.0000000e+000,  0.0000000e+000,  0.0000000e+000,\n",
            "         0.0000000e+000],\n",
            "       [ 0.0000000e+000,  0.0000000e+000,  0.0000000e+000,\n",
            "         0.0000000e+000,  0.0000000e+000,  0.0000000e+000,\n",
            "         0.0000000e+000,  0.0000000e+000,  0.0000000e+000,\n",
            "         0.0000000e+000],\n",
            "       [ 0.0000000e+000,  0.0000000e+000,  0.0000000e+000,\n",
            "         0.0000000e+000,  0.0000000e+000,  0.0000000e+000,\n",
            "         0.0000000e+000,  0.0000000e+000,  0.0000000e+000,\n",
            "         0.0000000e+000],\n",
            "       [ 0.0000000e+000,  0.0000000e+000,  0.0000000e+000,\n",
            "         0.0000000e+000,  0.0000000e+000,  0.0000000e+000,\n",
            "         0.0000000e+000,  0.0000000e+000,  0.0000000e+000,\n",
            "         0.0000000e+000],\n",
            "       [ 0.0000000e+000,  0.0000000e+000,  0.0000000e+000,\n",
            "         0.0000000e+000,  0.0000000e+000,  0.0000000e+000,\n",
            "         0.0000000e+000,  0.0000000e+000,  0.0000000e+000,\n",
            "         0.0000000e+000],\n",
            "       [ 0.0000000e+000,  0.0000000e+000,  0.0000000e+000,\n",
            "        -0.0000000e+000,  0.0000000e+000, -0.0000000e+000,\n",
            "         0.0000000e+000, -0.0000000e+000,  0.0000000e+000,\n",
            "        -0.0000000e+000],\n",
            "       [ 0.0000000e+000,  3.3402806e-292, -3.3402806e-292,\n",
            "         3.3402806e-292, -3.3402806e-292,  3.3402806e-292,\n",
            "        -3.3402806e-292,  3.3402806e-292, -3.3402806e-292,\n",
            "         3.3402806e-292],\n",
            "       [ 1.0000000e+000, -1.0000000e+000,  1.0000000e+000,\n",
            "        -1.0000000e+000,  1.0000000e+000, -1.0000000e+000,\n",
            "         1.0000000e+000, -1.0000000e+000,  1.0000000e+000,\n",
            "        -1.0000000e+000]]))\n"
          ]
        }
      ]
    },
    {
      "cell_type": "code",
      "source": [
        "def qft_rotations(circuit, n):\n",
        "    \"\"\"Performs qft on the first n qubits in circuit (without swaps)\"\"\"\n",
        "    if n == 0:\n",
        "        return circuit\n",
        "    n -= 1\n",
        "    circuit.h(n)\n",
        "    for qubit in range(n):\n",
        "        circuit.cp(pi/2**(n-qubit), qubit, n)\n",
        "    # At the end of our function, we call the same function again on\n",
        "    # the next qubits (we reduced n by one earlier in the function)\n",
        "    qft_rotations(circuit, n)\n",
        "def swap_registers(circuit, n):\n",
        "    for qubit in range(n//2):\n",
        "        circuit.swap(qubit, n-qubit-1)\n",
        "    return circuit\n",
        "\n",
        "def qft(circuit, n):\n",
        "    \"\"\"QFT on the first n qubits in circuit\"\"\"\n",
        "    qft_rotations(circuit, n)\n",
        "    swap_registers(circuit, n)\n",
        "    return circuit"
      ],
      "metadata": {
        "id": "pPMCwcOc2r18"
      },
      "execution_count": null,
      "outputs": []
    },
    {
      "cell_type": "code",
      "source": [
        "# Set number of qubits\n",
        "num_qubits = 3\n",
        "# Define time parameter\n",
        "t = Parameter('t')\n",
        "# Set total evolution time\n",
        "evolution_time_t = 9.4\n",
        "# Set size of time-step for Trotter evolution\n",
        "time_step_value_t = 0.1\n",
        "# Define the number of steps\n",
        "steps_t = int(evolution_time_t/time_step_value_t)\n",
        "# Create circuit\n",
        "tight_binding_circuit = QuantumCircuit(num_qubits)\n",
        "# Add initial state preparation\n",
        "\n",
        "# Define the Hamiltonian, the time-evolution operator, the Trotter step and the total evolution\n",
        "H =0.5*(I^Z^I) + (I^I^Z) + (I^I^I) + (I^I^I)\n",
        "time_evolution_operator=H*t\n",
        "time_evolution_operator=time_evolution_operator.exp_i()\n",
        "###INSERT CODE BELOW THIS LINE\n",
        "full_time_evolution_circuit=PauliTrotterEvolution().convert(time_evolution_operator)\n",
        "full_time_evolution_circuit=full_time_evolution_circuit.bind_parameters({t:time_step_value_t})\n",
        "for i in range(steps_t-1):\n",
        "    full_time_evolution_circuit@=PauliTrotterEvolution().convert(time_evolution_operator)\n",
        "    full_time_evolution_circuit=full_time_evolution_circuit.bind_parameters({t:time_step_value_t})\n",
        "full_time_evolution_circuit=full_time_evolution_circuit.to_circuit()\n",
        "full_time_evolution_circuit=tight_binding_circuit+full_time_evolution_circuit\n",
        "\n",
        "\n",
        "qc = QuantumCircuit(3)\n",
        "qc.x(1)\n",
        "qc.h(2)\n",
        "qc.cx(2,1)\n",
        "\n",
        "mygate = full_time_evolution_circuit.to_gate()\n",
        "\n",
        "qc.append(mygate,[0,1,2])\n",
        "# qft(qc,3)\n",
        "qc.draw()"
      ],
      "metadata": {
        "colab": {
          "base_uri": "https://localhost:8080/",
          "height": 162
        },
        "id": "ZHQZWEf9aQYv",
        "outputId": "ad057203-98c2-4193-dde9-44b0ef32b389"
      },
      "execution_count": null,
      "outputs": [
        {
          "output_type": "stream",
          "name": "stderr",
          "text": [
            "/usr/local/lib/python3.7/dist-packages/ipykernel_launcher.py:26: DeprecationWarning: The QuantumCircuit.__add__() method is being deprecated.Use the compose() method which is more flexible w.r.t circuit register compatibility.\n"
          ]
        },
        {
          "output_type": "execute_result",
          "data": {
            "text/plain": [
              "               ┌──────────────┐                                     ┌───┐   \n",
              "q_0: ──────────┤0             ├──────■──────────────────────■───────┤ H ├─X─\n",
              "     ┌───┐┌───┐│              │      │                ┌───┐ │P(π/2) └───┘ │ \n",
              "q_1: ┤ X ├┤ X ├┤1 circuit-281 ├──────┼────────■───────┤ H ├─■─────────────┼─\n",
              "     ├───┤└─┬─┘│              │┌───┐ │P(π/4)  │P(π/2) └───┘               │ \n",
              "q_2: ┤ H ├──■──┤2             ├┤ H ├─■────────■───────────────────────────X─\n",
              "     └───┘     └──────────────┘└───┘                                        "
            ],
            "text/html": [
              "<pre style=\"word-wrap: normal;white-space: pre;background: #fff0;line-height: 1.1;font-family: &quot;Courier New&quot;,Courier,monospace\">               ┌──────────────┐                                     ┌───┐   \n",
              "q_0: ──────────┤0             ├──────■──────────────────────■───────┤ H ├─X─\n",
              "     ┌───┐┌───┐│              │      │                ┌───┐ │P(π/2) └───┘ │ \n",
              "q_1: ┤ X ├┤ X ├┤1 circuit-281 ├──────┼────────■───────┤ H ├─■─────────────┼─\n",
              "     ├───┤└─┬─┘│              │┌───┐ │P(π/4)  │P(π/2) └───┘               │ \n",
              "q_2: ┤ H ├──■──┤2             ├┤ H ├─■────────■───────────────────────────X─\n",
              "     └───┘     └──────────────┘└───┘                                        </pre>"
            ]
          },
          "metadata": {},
          "execution_count": 6
        }
      ]
    },
    {
      "cell_type": "code",
      "source": [
        "qc.measure_all() # we measure all the qubits\n",
        "backend = Aer.get_backend('qasm_simulator') # we choose the simulator as our backend\n",
        "counts = execute(qc, backend, shots = 10000).result().get_counts() # we run the simulation and get the counts\n",
        "plot_histogram(counts) # let us plot a histogram to see the possible outcomes and corresponding probabilities"
      ],
      "metadata": {
        "id": "hfjpN2t0ampV",
        "colab": {
          "base_uri": "https://localhost:8080/",
          "height": 340
        },
        "outputId": "456e470d-0ceb-4576-f34b-c792c6ddae40"
      },
      "execution_count": null,
      "outputs": [
        {
          "output_type": "execute_result",
          "data": {
            "text/plain": [
              "<Figure size 504x360 with 1 Axes>"
            ],
            "image/png": "[encoded data removed]"
          },
          "metadata": {},
          "execution_count": 7
        }
      ]
    },
    {
      "cell_type": "code",
      "source": [
        "qc1 = QuantumCircuit(3)\n",
        "qc1.x(1)\n",
        "qc1.h(2)\n",
        "qc1.cx(2,1)\n",
        "qft(qc1,3)\n",
        "qc1.draw()\n",
        "qc1.measure_all() # we measure all the qubits\n",
        "backend = Aer.get_backend('qasm_simulator') # we choose the simulator as our backend\n",
        "counts = execute(qc1, backend, shots = 10000).result().get_counts() # we run the simulation and get the counts\n",
        "plot_histogram(counts) # let us plot a histogram to see the possible outcomes and corresponding probabilities"
      ],
      "metadata": {
        "id": "i3F8zQRva5uK",
        "colab": {
          "base_uri": "https://localhost:8080/",
          "height": 340
        },
        "outputId": "0e82246c-9952-4532-a2db-9d7c0cf34aec"
      },
      "execution_count": null,
      "outputs": [
        {
          "output_type": "execute_result",
          "data": {
            "text/plain": [
              "<Figure size 504x360 with 1 Axes>"
            ],
            "image/png": "[encoded data removed]"
          },
          "metadata": {},
          "execution_count": 8
        }
      ]
    },
    {
      "cell_type": "code",
      "source": [
        "#peskin Quantum field theory "
      ],
      "metadata": {
        "id": "e-V_wmkj3aaQ"
      },
      "execution_count": null,
      "outputs": []
    },
    {
      "cell_type": "code",
      "source": [],
      "metadata": {
        "id": "_SgSJd766Xs4"
      },
      "execution_count": null,
      "outputs": []
    }
  ]
}